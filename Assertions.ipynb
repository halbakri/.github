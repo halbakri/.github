{
  "nbformat": 4,
  "nbformat_minor": 0,
  "metadata": {
    "colab": {
      "name": "Assertions.ipynb",
      "provenance": [],
      "include_colab_link": true
    },
    "kernelspec": {
      "name": "python3",
      "display_name": "Python 3"
    },
    "language_info": {
      "name": "python"
    }
  },
  "cells": [
    {
      "cell_type": "markdown",
      "metadata": {
        "id": "view-in-github",
        "colab_type": "text"
      },
      "source": [
        "<a href=\"https://colab.research.google.com/github/halbakri/.github/blob/master/Assertions.ipynb\" target=\"_parent\"><img src=\"https://colab.research.google.com/assets/colab-badge.svg\" alt=\"Open In Colab\"/></a>"
      ]
    },
    {
      "cell_type": "markdown",
      "source": [
        "# Assertions\n",
        "* Assertions can be used for sanity checks during development process.\n",
        "* Assertions are a convenient tool for documenting, debugging, and testing code during development.\n"
      ],
      "metadata": {
        "id": "rs-Nxzi_ud22"
      }
    },
    {
      "cell_type": "markdown",
      "source": [
        "## Divisibility by 6\n",
        "Divisibility by 6 is determined by checking the original number to see if it is both an even number (divisible by `2`) and divisible by `3`. This is the best test to use.\n",
        "\n",
        "If the number is divisible by six, take the original number `(246)` and divide it by two `(246 ÷ 2 = 123)`. Then, take that result and divide it by three `(123 ÷ 3 = 41)`. This result is the same as the original number divided by six `(246 ÷ 6 = 41)`.[[1]](https://en.wikipedia.org/wiki/Divisibility_rule#Divisibility_by_6)"
      ],
      "metadata": {
        "id": "0zpDr0D1sPHp"
      }
    },
    {
      "cell_type": "code",
      "execution_count": 1,
      "metadata": {
        "id": "K3z_uVwLsHFt",
        "outputId": "9af2681e-e7d4-474e-d59a-80467cadf722",
        "colab": {
          "base_uri": "https://localhost:8080/"
        }
      },
      "outputs": [
        {
          "output_type": "stream",
          "name": "stdout",
          "text": [
            "x is divisible by 6\n"
          ]
        }
      ],
      "source": [
        "x = 12\n",
        "\n",
        "if x % 6 == 0:\n",
        "    print('x is divisible by 6')\n",
        "elif x % 2 == 0:\n",
        "    print('x is divisible by 2')\n",
        "elif x % 3 == 0:\n",
        "    print('x is divisible by 3')\n",
        "else:\n",
        "    print('x is not divisible by 2 or 3')"
      ]
    },
    {
      "cell_type": "markdown",
      "source": [
        "### Exercise\n",
        "Implement the function below using methods from the [Python Standard Library](https://docs.python.org/3/library/).\n",
        "\n",
        "**Hint**\n",
        "* Use the method documentation to determine the inputs and outputs."
      ],
      "metadata": {
        "id": "voJUorxQs9QP"
      }
    },
    {
      "cell_type": "code",
      "source": [
        "def divisibility( number ):\n",
        "  '''\n",
        "  Divisibility by 6 is determined by checking the original number to see if it is both an even number (divisible by 2) and divisible by 3\n",
        "\n",
        "  :param number: an integer\n",
        "  :type integer: integer\n",
        "  :rtype: boolean\n",
        "  '''\n",
        "\n",
        "  raise NotImplementedError()\n",
        "\n",
        "assert divisibility(12) == True\n",
        "assert divisibility(24) == True\n",
        "assert divisibility(2) == False\n",
        "assert divisibility(5) == False\n",
        "assert divisibility(1) == False\n"
      ],
      "metadata": {
        "id": "5Yiq3xIGs-t5"
      },
      "execution_count": null,
      "outputs": []
    }
  ]
}